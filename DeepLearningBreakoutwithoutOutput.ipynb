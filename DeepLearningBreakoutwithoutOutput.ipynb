{
  "cells": [
    {
      "cell_type": "markdown",
      "metadata": {
        "id": "view-in-github",
        "colab_type": "text"
      },
      "source": [
        "<a href=\"https://colab.research.google.com/github/Linakatabicity/DLModule/blob/main/DeepLearningBreakoutwithoutOutput.ipynb\" target=\"_parent\"><img src=\"https://colab.research.google.com/assets/colab-badge.svg\" alt=\"Open In Colab\"/></a>"
      ]
    },
    {
      "cell_type": "code",
      "execution_count": null,
      "metadata": {
        "id": "48vkUxJ_fyEL"
      },
      "outputs": [],
      "source": [
        "!pip install gym[atari]\n",
        "!apt-get install -y xvfb x11-utils\n",
        "!pip install pyvirtualdisplay==0.2.*\n",
        "!pip install autorom[accept-rom-license]\n",
        "!pip install --upgrade gym==0.19.0\n",
        "!pip install -U \"ray[rllib]\"==1.6\n",
        "!pip install tensorboardX\n",
        "!pip install --upgrade grpcio "
      ]
    },
    {
      "cell_type": "code",
      "execution_count": null,
      "metadata": {
        "colab": {
          "base_uri": "https://localhost:8080/"
        },
        "id": "RWSJpsyKqHjH",
        "outputId": "332b5814-aac9-4725-d901-8884c038665a"
      },
      "outputs": [
        {
          "output_type": "stream",
          "name": "stdout",
          "text": [
            "Drive already mounted at /content/drive; to attempt to forcibly remount, call drive.mount(\"/content/drive\", force_remount=True).\n"
          ]
        }
      ],
      "source": [
        "from google.colab import drive\n",
        "drive.mount('/content/drive')\n"
      ]
    },
    {
      "cell_type": "code",
      "execution_count": null,
      "metadata": {
        "id": "7lq3a8T8rLuk"
      },
      "outputs": [],
      "source": [
        "#to clear tensor board log files\n",
        "!rm -rf  /root/ray_results"
      ]
    },
    {
      "cell_type": "code",
      "execution_count": null,
      "metadata": {
        "id": "Lppe1DyXSE0Q"
      },
      "outputs": [],
      "source": [
        "from ray.rllib.agents.ppo import PPOTrainer\n",
        "import ray.rllib.agents.dqn as dqn\n",
        "import gym\n",
        "import matplotlib.pyplot as plt\n",
        "from IPython import display\n",
        "from ray import tune\n",
        "import datetime\n",
        "%load_ext tensorboard\n",
        "import tensorflow as tf\n",
        "import tensorboardX\n"
      ]
    },
    {
      "cell_type": "markdown",
      "metadata": {
        "id": "5FA_8jdLX1k8"
      },
      "source": [
        "## Render the environment for visual"
      ]
    },
    {
      "cell_type": "code",
      "execution_count": null,
      "metadata": {
        "colab": {
          "base_uri": "https://localhost:8080/",
          "height": 286
        },
        "id": "QrDAMEe1f8AA",
        "outputId": "840c3eb7-7da2-4dcf-ecb2-7307ec4004e7"
      },
      "outputs": [
        {
          "output_type": "stream",
          "name": "stdout",
          "text": [
            "Reward 0.0\n"
          ]
        },
        {
          "output_type": "display_data",
          "data": {
            "text/plain": [
              "<Figure size 432x288 with 1 Axes>"
            ],
            "image/png": "[encoded data removed]"
          },
          "metadata": {
            "needs_background": "light"
          }
        }
      ],
      "source": [
        "\n",
        "env = gym.make('Breakout-v0')\n",
        "env.reset()\n",
        "for _ in range(100):\n",
        "    plt.imshow(env.render(mode='rgb_array'))\n",
        "    display.display(plt.gcf())\n",
        "    display.clear_output(wait=True)\n",
        "    action = env.action_space.sample()\n",
        "    observation, reward, done, info = env.step(env.action_space.sample())\n",
        "\n",
        "    print(\"Reward\", reward)\n",
        "    env.step(action)"
      ]
    },
    {
      "cell_type": "markdown",
      "metadata": {
        "id": "nPsy8L5hX_Fx"
      },
      "source": [
        "## Code Helper "
      ]
    },
    {
      "cell_type": "code",
      "execution_count": null,
      "metadata": {
        "id": "FLENR8tsiCjI"
      },
      "outputs": [],
      "source": [
        "# Import the RL algorithm (Trainer) we would like to use.\n",
        "\n",
        "\n",
        "def evaluation_fn(result):\n",
        "    return result['episode_reward_mean']\n",
        "\n",
        "\n",
        "def objective_fn(config):   \n",
        "    trainer = dqn.DQNTrainer(config=config)\n",
        "    for i in range(100):\n",
        "      # Perform one iteration of training the policy with DQN\n",
        "      result = trainer.train()\n",
        "      intermediate_score = evaluation_fn(result)\n",
        "      \n",
        "      # Feed the score back back to Tune.\n",
        "      tune.report(iterations=i, mean_reward=intermediate_score)\n"
      ]
    },
    {
      "cell_type": "markdown",
      "metadata": {
        "id": "wpomeZP3YLOZ"
      },
      "source": [
        "## Configure Set up"
      ]
    },
    {
      "cell_type": "code",
      "execution_count": null,
      "metadata": {
        "id": "sdkfPMiiSDCL"
      },
      "outputs": [],
      "source": [
        "\n",
        "config = dqn.DEFAULT_CONFIG.copy()\n",
        "config[\"env\"] = 'Breakout-v0'\n",
        "config[\"dueling\"] = True\n",
        "config[\"double_q\"] = True\n",
        "config[\"gamma\"] = tune.uniform(0, 1)\n",
        "config[\"train_batch_size\"] = tune.grid_search([25,32,62])\n",
        "config['num_gpus'] =  1\n",
        "config['lr'] = 0.001\n",
        "\n",
        "\n",
        "\n",
        "\n",
        "\n"
      ]
    },
    {
      "cell_type": "markdown",
      "metadata": {
        "id": "UibA0tvNYQVF"
      },
      "source": [
        "## Run Analysis"
      ]
    },
    {
      "cell_type": "code",
      "execution_count": null,
      "metadata": {
        "id": "Baiiegc5OWpy"
      },
      "outputs": [],
      "source": [
        "\n",
        "analysis = tune.run(\n",
        "        objective_fn,\n",
        "        metric=\"mean_reward\",\n",
        "        mode=\"max\",\n",
        "        #stop = {'episode_reward_mean': 20},\n",
        "        num_samples=3,\n",
        "        resources_per_trial={'gpu': 1},\n",
        "        config=config\n",
        "        )\n",
        "\n",
        "%reload_ext tensorboard\n",
        "%tensorboard --logdir  /root/ray_results\n",
        "#print(\"Best hyperparameters found were: \", analysis.best_config)\n"
      ]
    },
    {
      "cell_type": "code",
      "execution_count": null,
      "metadata": {
        "colab": {
          "base_uri": "https://localhost:8080/"
        },
        "id": "8yzzTcbZzQga",
        "outputId": "aaf9f42a-f895-498a-d56b-04ca77600b6b"
      },
      "outputs": [
        {
          "output_type": "stream",
          "name": "stdout",
          "text": [
            "Best hyperparameters found were:  {'num_workers': 0, 'num_envs_per_worker': 1, 'create_env_on_driver': False, 'rollout_fragment_length': 4, 'batch_mode': 'truncate_episodes', 'gamma': 0.9636508942389949, 'lr': 0.001, 'train_batch_size': 25, 'model': {'_use_default_native_models': False, 'fcnet_hiddens': [256, 256], 'fcnet_activation': 'tanh', 'conv_filters': None, 'conv_activation': 'relu', 'post_fcnet_hiddens': [], 'post_fcnet_activation': 'relu', 'free_log_std': False, 'no_final_linear': False, 'vf_share_layers': True, 'use_lstm': False, 'max_seq_len': 20, 'lstm_cell_size': 256, 'lstm_use_prev_action': False, 'lstm_use_prev_reward': False, '_time_major': False, 'use_attention': False, 'attention_num_transformer_units': 1, 'attention_dim': 64, 'attention_num_heads': 1, 'attention_head_dim': 32, 'attention_memory_inference': 50, 'attention_memory_training': 50, 'attention_position_wise_mlp_dim': 32, 'attention_init_gru_gate_bias': 2.0, 'attention_use_n_prev_actions': 0, 'attention_use_n_prev_rewards': 0, 'num_framestacks': 'auto', 'dim': 84, 'grayscale': False, 'zero_mean': True, 'custom_model': None, 'custom_model_config': {}, 'custom_action_dist': None, 'custom_preprocessor': None, 'lstm_use_prev_action_reward': -1, 'framestack': True}, 'optimizer': {}, 'horizon': None, 'soft_horizon': False, 'no_done_at_end': False, 'env': 'Breakout-v0', 'observation_space': None, 'action_space': None, 'env_config': {}, 'env_task_fn': None, 'render_env': False, 'record_env': False, 'clip_rewards': None, 'normalize_actions': True, 'clip_actions': False, 'preprocessor_pref': 'deepmind', 'log_level': 'WARN', 'callbacks': <class 'ray.rllib.agents.callbacks.DefaultCallbacks'>, 'ignore_worker_failures': False, 'log_sys_usage': True, 'fake_sampler': False, 'framework': 'tf', 'eager_tracing': False, 'explore': True, 'exploration_config': {'type': 'EpsilonGreedy', 'initial_epsilon': 1.0, 'final_epsilon': 0.02, 'epsilon_timesteps': 10000}, 'evaluation_interval': None, 'evaluation_num_episodes': 10, 'evaluation_parallel_to_training': False, 'in_evaluation': False, 'evaluation_config': {'explore': False}, 'evaluation_num_workers': 0, 'custom_eval_function': None, 'sample_async': False, 'sample_collector': <class 'ray.rllib.evaluation.collectors.simple_list_collector.SimpleListCollector'>, 'observation_filter': 'NoFilter', 'synchronize_filters': True, 'tf_session_args': {'intra_op_parallelism_threads': 2, 'inter_op_parallelism_threads': 2, 'gpu_options': {'allow_growth': True}, 'log_device_placement': False, 'device_count': {'CPU': 1}, 'allow_soft_placement': True}, 'local_tf_session_args': {'intra_op_parallelism_threads': 8, 'inter_op_parallelism_threads': 8}, 'compress_observations': False, 'collect_metrics_timeout': 180, 'metrics_smoothing_episodes': 100, 'remote_worker_envs': False, 'remote_env_batch_wait_ms': 0, 'min_iter_time_s': 1, 'timesteps_per_iteration': 1000, 'seed': None, 'extra_python_environs_for_driver': {}, 'extra_python_environs_for_worker': {}, 'num_gpus': 1, '_fake_gpus': False, 'num_cpus_per_worker': 1, 'num_gpus_per_worker': 0, 'custom_resources_per_worker': {}, 'num_cpus_for_driver': 1, 'placement_strategy': 'PACK', 'input': 'sampler', 'input_config': {}, 'actions_in_input_normalized': False, 'input_evaluation': ['is', 'wis'], 'postprocess_inputs': False, 'shuffle_buffer_size': 0, 'output': None, 'output_compress_columns': ['obs', 'new_obs'], 'output_max_file_size': 67108864, 'multiagent': {'policies': {}, 'policy_map_capacity': 100, 'policy_map_cache': None, 'policy_mapping_fn': None, 'policies_to_train': None, 'observation_fn': None, 'replay_mode': 'independent', 'count_steps_by': 'env_steps'}, 'logger_config': None, 'simple_optimizer': -1, 'monitor': -1, 'num_atoms': 1, 'v_min': -10.0, 'v_max': 10.0, 'noisy': False, 'sigma0': 0.5, 'dueling': True, 'hiddens': [256], 'double_q': True, 'n_step': 1, 'target_network_update_freq': 500, 'buffer_size': 50000, 'replay_sequence_length': 1, 'prioritized_replay': True, 'prioritized_replay_alpha': 0.6, 'prioritized_replay_beta': 0.4, 'final_prioritized_replay_beta': 0.4, 'prioritized_replay_beta_annealing_timesteps': 20000, 'prioritized_replay_eps': 1e-06, 'before_learn_on_batch': None, 'training_intensity': None, 'lr_schedule': None, 'adam_epsilon': 1e-08, 'grad_clip': 40, 'learning_starts': 1000, 'worker_side_prioritization': False}\n"
          ]
        }
      ],
      "source": [
        "print(\"Best hyperparameters found were: \", analysis.best_config)"
      ]
    },
    {
      "cell_type": "code",
      "source": [
        "config = dqn.DEFAULT_CONFIG.copy()\n",
        "config[\"env\"] = 'Breakout-v0'\n",
        "config[\"dueling\"] = True\n",
        "config[\"double_q\"] = True\n",
        "config[\"gamma\"] = 0.963651\n",
        "config[\"train_batch_size\"] = 25\n",
        "config['num_gpus'] =  1\n",
        "config['lr'] = 0.001\n",
        "config['timesteps_per_iteration']= 2500\n",
        "\n",
        "config2 = dqn.DEFAULT_CONFIG.copy()\n",
        "config2[\"env\"] = 'Breakout-v0'\n",
        "config2[\"dueling\"] = False\n",
        "config2[\"double_q\"] = True\n",
        "config2[\"gamma\"] = 0.963651\n",
        "config2[\"train_batch_size\"] = 25\n",
        "config2['num_gpus'] =  1\n",
        "config2['lr'] = 0.001\n",
        "config2['timesteps_per_iteration']= 2500\n",
        "\n",
        "config3 = dqn.DEFAULT_CONFIG.copy()\n",
        "config3[\"env\"] = 'Breakout-v0'\n",
        "config3[\"dueling\"] = False\n",
        "config3[\"double_q\"] = True\n",
        "config3[\"gamma\"] = 0.963651\n",
        "config3[\"train_batch_size\"] = 25\n",
        "config3['num_gpus'] =  1\n",
        "config3['lr'] = 0.001\n",
        "config3['timesteps_per_iteration']= 2500\n",
        "\n",
        "\n",
        "config4 = dqn.DEFAULT_CONFIG.copy()\n",
        "config4[\"env\"] = 'Breakout-v0'\n",
        "config4[\"dueling\"] = True\n",
        "config4[\"double_q\"] = True\n",
        "config4['prioritized_replay'] = False\n",
        "config4[\"gamma\"] = 0.963651\n",
        "config4[\"train_batch_size\"] = 25\n",
        "config4['num_gpus'] =  1\n",
        "config4['lr'] = 0.001\n",
        "config4['timesteps_per_iteration']= 2500\n",
        "\n",
        "\n"
      ],
      "metadata": {
        "id": "fqRe0rh4YNw_"
      },
      "execution_count": null,
      "outputs": []
    },
    {
      "cell_type": "code",
      "source": [
        "\n",
        "!rm -rf  /root/ray_results\n",
        "%reload_ext tensorboard\n",
        "%tensorboard --logdir  /root/ray_results\n",
        "\n",
        "analysis = tune.run(\n",
        "        objective_fn,\n",
        "        metric=\"mean_reward\",\n",
        "        mode=\"max\",\n",
        "        #stop = {'episode_reward_mean': 20},\n",
        "        num_samples=1,\n",
        "        resources_per_trial={'gpu': 1},\n",
        "        config=config\n",
        "\n",
        "        )\n",
        "\n",
        "analysis2 = tune.run(\n",
        "        objective_fn,\n",
        "        metric=\"mean_reward\",\n",
        "        mode=\"max\",\n",
        "        #stop = {'episode_reward_mean': 20},\n",
        "        num_samples=1,\n",
        "        resources_per_trial={'gpu': 1},\n",
        "        config=config2\n",
        "\n",
        "        )\n",
        "analysis3 = tune.run(\n",
        "        objective_fn,\n",
        "        metric=\"mean_reward\",\n",
        "        mode=\"max\",\n",
        "        #stop = {'episode_reward_mean': 20},\n",
        "        num_samples=1,\n",
        "        resources_per_trial={'gpu': 1},\n",
        "        config=config3\n",
        "\n",
        "        )\n",
        "analysis4 = tune.run(\n",
        "        objective_fn,\n",
        "        metric=\"mean_reward\",\n",
        "        mode=\"max\",\n",
        "        #stop = {'episode_reward_mean': 20},\n",
        "        num_samples=1,\n",
        "        resources_per_trial={'gpu': 1},\n",
        "        config=config4\n",
        "\n",
        "        )\n"
      ],
      "metadata": {
        "id": "T7mX_jGnWpyH"
      },
      "execution_count": null,
      "outputs": []
    }
  ],
  "metadata": {
    "accelerator": "GPU",
    "colab": {
      "name": "DeepLearningBreakoutwithoutOutput.ipynb",
      "provenance": [],
      "mount_file_id": "1JNa254uOBqfA1O5fzhWceLy7EaVuOOyy",
      "authorship_tag": "ABX9TyNtaDzvBHmtoz/V7TmZYSzY",
      "include_colab_link": true
    },
    "kernelspec": {
      "display_name": "Python 3",
      "name": "python3"
    },
    "language_info": {
      "name": "python"
    }
  },
  "nbformat": 4,
  "nbformat_minor": 0
}